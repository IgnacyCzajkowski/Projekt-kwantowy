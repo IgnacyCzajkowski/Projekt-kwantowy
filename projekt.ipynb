{
 "cells": [
  {
   "cell_type": "code",
   "execution_count": 1,
   "id": "42ecbabe-96ed-4023-aa8a-65709df73384",
   "metadata": {},
   "outputs": [],
   "source": [
    "from qiskit import QuantumCircuit\n",
    "from qiskit.providers.aer import AerSimulator\n",
    "from qiskit import Aer, transpile\n",
    "from qiskit.visualization import plot_histogram\n"
   ]
  },
  {
   "cell_type": "markdown",
   "id": "892a82ca-c375-46d4-a3f6-6ce5439980b3",
   "metadata": {},
   "source": [
    "# 1.  algorytm \"half adder\" służący do znajdowania wyniku dodawania bitów. Wielokrotne zastosowanie pozwala na zbudowanie algorytmu znajdującego sumę bitową dowolnego ciągu"
   ]
  },
  {
   "cell_type": "code",
   "execution_count": 2,
   "id": "75de60ed-e791-4e2b-a03f-2faa5908e215",
   "metadata": {},
   "outputs": [
    {
     "data": {
      "text/html": [
       "<pre style=\"word-wrap: normal;white-space: pre;background: #fff0;line-height: 1.1;font-family: &quot;Courier New&quot;,Courier,monospace\">     ┌───┐                     \n",
       "q_0: ┤ X ├──■─────────■────────\n",
       "     ├───┤  │         │        \n",
       "q_1: ┤ X ├──┼────■────■────────\n",
       "     └───┘┌─┴─┐┌─┴─┐  │  ┌─┐   \n",
       "q_2: ─────┤ X ├┤ X ├──┼──┤M├───\n",
       "          └───┘└───┘┌─┴─┐└╥┘┌─┐\n",
       "q_3: ───────────────┤ X ├─╫─┤M├\n",
       "                    └───┘ ║ └╥┘\n",
       "c: 2/═════════════════════╩══╩═\n",
       "                          0  1 </pre>"
      ],
      "text/plain": [
       "     ┌───┐                     \n",
       "q_0: ┤ X ├──■─────────■────────\n",
       "     ├───┤  │         │        \n",
       "q_1: ┤ X ├──┼────■────■────────\n",
       "     └───┘┌─┴─┐┌─┴─┐  │  ┌─┐   \n",
       "q_2: ─────┤ X ├┤ X ├──┼──┤M├───\n",
       "          └───┘└───┘┌─┴─┐└╥┘┌─┐\n",
       "q_3: ───────────────┤ X ├─╫─┤M├\n",
       "                    └───┘ ║ └╥┘\n",
       "c: 2/═════════════════════╩══╩═\n",
       "                          0  1 "
      ]
     },
     "execution_count": 2,
     "metadata": {},
     "output_type": "execute_result"
    }
   ],
   "source": [
    "ha_qc = QuantumCircuit(4, 2)\n",
    "\n",
    "# poniżej inicjalizujemy dwa dodawane bity w tym przypadku 11. Można uzyskać dowolną kombinację poprzez nie zastosowanie x-gate.\n",
    "ha_qc.x(0) \n",
    "ha_qc.x(1)\n",
    "\n",
    "#\"budowa\" układu\n",
    "ha_qc.cx(0,2) # CNOT gate\n",
    "ha_qc.cx(1,2) # CNOT gate\n",
    "ha_qc.ccx(0,1,3) # bramka Toffoliego\n",
    "\n",
    "# wykonanie pomiaru i wyswietlenie go\n",
    "ha_qc.measure(2,0)\n",
    "ha_qc.measure(3,1)\n",
    "ha_qc.draw()\n",
    "    "
   ]
  },
  {
   "cell_type": "code",
   "execution_count": 3,
   "id": "7cda0969-cb4d-4390-bb69-510ad95ae072",
   "metadata": {},
   "outputs": [
    {
     "data": {
      "text/plain": [
       "{'10': 1024}"
      ]
     },
     "execution_count": 3,
     "metadata": {},
     "output_type": "execute_result"
    }
   ],
   "source": [
    "# wyswietlenie wyniku operacji\n",
    "sim = AerSimulator()\n",
    "job = sim.run(ha_qc)  \n",
    "result = job.result()   \n",
    "result.get_counts() "
   ]
  },
  {
   "cell_type": "markdown",
   "id": "e4e42851-8271-44b9-bb3c-d370931b306c",
   "metadata": {},
   "source": [
    "Zasada działania: Przy dodawaniu do siebie liczb w postaci bitów o tej samej długości algorytmicznie sprowadza się to do serii dodawania par bitów według tabelki:\\\n",
    "0+0=00\\\n",
    "0+1=01\\\n",
    "1+0=01\\\n",
    "1+1=10\\\n",
    "Co jest odpowiednikiem \"dodawania pod kreską\". Powyższy algorytm przyjmując dowolną parę bitów q0 i q1 zwraca wynik przy pomocy 2 bramek CNOT oraz bramki Toffoliego. Układ 2 bramek CNOT ustawia prawy bit outputu na q0 XOR q1, a bramka Toffoliego służy do ustawienia lewego bitu outputu.  "
   ]
  },
  {
   "cell_type": "markdown",
   "id": "40205493-c908-48f4-96c3-ae86fb99f867",
   "metadata": {},
   "source": [
    "# 2. algorytm szukający Grover'a. Służący do znajdywania stanu spełniającego rozwiązania w nieposortowanej strukturze. "
   ]
  },
  {
   "cell_type": "markdown",
   "id": "74cd27d3-307d-440e-9841-0a5a6f158f37",
   "metadata": {},
   "source": [
    "Wprowadzenie: Pokażemy działanie algorytmu na przykładzie w którym input ustawimy na równą superpozycję stanów 00, 01, 10, 11. Jako rozwiązanie uznamy stan 11. W tym celu tworzymy oracle odwracający fazę tego rozwiązania oraz odpowiadający dyfuzer."
   ]
  },
  {
   "cell_type": "code",
   "execution_count": 4,
   "id": "5b5795a7-8750-48f2-bc04-d97f464204eb",
   "metadata": {},
   "outputs": [
    {
     "data": {
      "text/html": [
       "<pre style=\"word-wrap: normal;white-space: pre;background: #fff0;line-height: 1.1;font-family: &quot;Courier New&quot;,Courier,monospace\">        \n",
       "q_0: ─■─\n",
       "      │ \n",
       "q_1: ─■─\n",
       "        </pre>"
      ],
      "text/plain": [
       "        \n",
       "q_0: ─■─\n",
       "      │ \n",
       "q_1: ─■─\n",
       "        "
      ]
     },
     "execution_count": 4,
     "metadata": {},
     "output_type": "execute_result"
    }
   ],
   "source": [
    "#tworzenie pierwszego elementu układu nazywanego oracle z c-z gate'a i narysowanie go \n",
    "oracle = QuantumCircuit(2)\n",
    "oracle.cz(0,1)  # bramka c-z odwraca faze |11>\n",
    "oracle.draw()"
   ]
  },
  {
   "cell_type": "code",
   "execution_count": 5,
   "id": "d4faad9f-ca76-4e51-8d65-9d16cfb384d8",
   "metadata": {},
   "outputs": [
    {
     "data": {
      "text/html": [
       "<pre style=\"word-wrap: normal;white-space: pre;background: #fff0;line-height: 1.1;font-family: &quot;Courier New&quot;,Courier,monospace\">     ┌───┐\n",
       "q_0: ┤ H ├\n",
       "     ├───┤\n",
       "q_1: ┤ H ├\n",
       "     └───┘</pre>"
      ],
      "text/plain": [
       "     ┌───┐\n",
       "q_0: ┤ H ├\n",
       "     ├───┤\n",
       "q_1: ┤ H ├\n",
       "     └───┘"
      ]
     },
     "execution_count": 5,
     "metadata": {},
     "output_type": "execute_result"
    }
   ],
   "source": [
    "#tworzenie drugiego elementu nazywanego dyfuzerem składającego sie z 2 H-gatów\n",
    "diffuser = QuantumCircuit(2)\n",
    "diffuser.h([0, 1]) # bramka Hadamard'a\n",
    "diffuser.draw()"
   ]
  },
  {
   "cell_type": "code",
   "execution_count": 6,
   "id": "4b9cd25c-eba8-4c24-bea4-77c9185dcd90",
   "metadata": {},
   "outputs": [
    {
     "data": {
      "text/html": [
       "<pre style=\"word-wrap: normal;white-space: pre;background: #fff0;line-height: 1.1;font-family: &quot;Courier New&quot;,Courier,monospace\">     ┌───┐┌───┐\n",
       "q_0: ┤ H ├┤ X ├\n",
       "     ├───┤├───┤\n",
       "q_1: ┤ H ├┤ X ├\n",
       "     └───┘└───┘</pre>"
      ],
      "text/plain": [
       "     ┌───┐┌───┐\n",
       "q_0: ┤ H ├┤ X ├\n",
       "     ├───┤├───┤\n",
       "q_1: ┤ H ├┤ X ├\n",
       "     └───┘└───┘"
      ]
     },
     "execution_count": 6,
     "metadata": {},
     "output_type": "execute_result"
    }
   ],
   "source": [
    "#zastosowanie 2 X-gate'ów do dyfuzera w celu zamiany domyślnego inputu z |00> na |11>\n",
    "diffuser.x([0,1])\n",
    "diffuser.draw()"
   ]
  },
  {
   "cell_type": "code",
   "execution_count": 7,
   "id": "fdcfdc1a-5119-4372-bb13-ecfefc849e99",
   "metadata": {},
   "outputs": [
    {
     "data": {
      "text/html": [
       "<pre style=\"word-wrap: normal;white-space: pre;background: #fff0;line-height: 1.1;font-family: &quot;Courier New&quot;,Courier,monospace\">     ┌───┐┌───┐   ┌───┐┌───┐\n",
       "q_0: ┤ H ├┤ X ├─■─┤ X ├┤ H ├\n",
       "     ├───┤├───┤ │ ├───┤├───┤\n",
       "q_1: ┤ H ├┤ X ├─■─┤ X ├┤ H ├\n",
       "     └───┘└───┘   └───┘└───┘</pre>"
      ],
      "text/plain": [
       "     ┌───┐┌───┐   ┌───┐┌───┐\n",
       "q_0: ┤ H ├┤ X ├─■─┤ X ├┤ H ├\n",
       "     ├───┤├───┤ │ ├───┤├───┤\n",
       "q_1: ┤ H ├┤ X ├─■─┤ X ├┤ H ├\n",
       "     └───┘└───┘   └───┘└───┘"
      ]
     },
     "execution_count": 7,
     "metadata": {},
     "output_type": "execute_result"
    }
   ],
   "source": [
    "diffuser.cz(0,1)\n",
    "diffuser.x([0,1])\n",
    "diffuser.h([0,1])\n",
    "diffuser.draw()"
   ]
  },
  {
   "cell_type": "code",
   "execution_count": 8,
   "id": "4c860f21-32e1-4cd5-b021-779331741bc3",
   "metadata": {},
   "outputs": [
    {
     "data": {
      "text/html": [
       "<pre style=\"word-wrap: normal;white-space: pre;background: #fff0;line-height: 1.1;font-family: &quot;Courier New&quot;,Courier,monospace\">        ┌───┐   ┌───┐┌───┐   ┌───┐┌───┐ ░ ┌─┐   \n",
       "   q_0: ┤ H ├─■─┤ H ├┤ X ├─■─┤ X ├┤ H ├─░─┤M├───\n",
       "        ├───┤ │ ├───┤├───┤ │ ├───┤├───┤ ░ └╥┘┌─┐\n",
       "   q_1: ┤ H ├─■─┤ H ├┤ X ├─■─┤ X ├┤ H ├─░──╫─┤M├\n",
       "        └───┘   └───┘└───┘   └───┘└───┘ ░  ║ └╥┘\n",
       "meas: 2/═══════════════════════════════════╩══╩═\n",
       "                                           0  1 </pre>"
      ],
      "text/plain": [
       "        ┌───┐   ┌───┐┌───┐   ┌───┐┌───┐ ░ ┌─┐   \n",
       "   q_0: ┤ H ├─■─┤ H ├┤ X ├─■─┤ X ├┤ H ├─░─┤M├───\n",
       "        ├───┤ │ ├───┤├───┤ │ ├───┤├───┤ ░ └╥┘┌─┐\n",
       "   q_1: ┤ H ├─■─┤ H ├┤ X ├─■─┤ X ├┤ H ├─░──╫─┤M├\n",
       "        └───┘   └───┘└───┘   └───┘└───┘ ░  ║ └╥┘\n",
       "meas: 2/═══════════════════════════════════╩══╩═\n",
       "                                           0  1 "
      ]
     },
     "execution_count": 8,
     "metadata": {},
     "output_type": "execute_result"
    }
   ],
   "source": [
    "grover = QuantumCircuit(2)\n",
    "grover.h([0,1])  # inicjalizacja stanu równej superpozycji inputów\n",
    "grover = grover.compose(oracle)\n",
    "grover = grover.compose(diffuser)\n",
    "grover.measure_all()\n",
    "grover.draw()"
   ]
  },
  {
   "cell_type": "code",
   "execution_count": 9,
   "id": "029ec888-9c95-4bd9-8167-84463fc25183",
   "metadata": {},
   "outputs": [
    {
     "data": {
      "text/plain": [
       "{'11': 1024}"
      ]
     },
     "execution_count": 9,
     "metadata": {},
     "output_type": "execute_result"
    }
   ],
   "source": [
    "sim = Aer.get_backend('aer_simulator')\n",
    "sim.run(grover).result().get_counts()"
   ]
  },
  {
   "cell_type": "markdown",
   "id": "116455ca-0723-44c1-a2a2-51b0cc54f44a",
   "metadata": {},
   "source": [
    "Zasada działania: na tym przykładzie jako input używamy 2 qbitów i zastosujemy na nich działanie pojedyńczej iteracji algorytmu. Algorytm można podzielić na 3 kroki:\\\n",
    "1.tworzymy równą superpozycję wszystkich możliwych inputów dla oracla. W naszym przypadku qubity domyślnie ustawione są na stan |0>, więc tworzymy superpozycje przez przepuszczenie qubitów przez H-gate.\\\n",
    "2.Tak przygotowany input przepuszczamy przez oracle'a. (Układ który odwraca fazę stanów będących rozwiązaniami (szukanymi)).\\\n",
    "3.Ostatecznie przepuszczamy nasz input przez dyfuzer, którego działanie najlepiej opisać poniższym obrazkiem.\n",
    "Powtarzając kroki 2. i 3. bedzięmy dostawać stan najbardziej zbliżony do superpozycji rozwiązań. \\\n",
    "Działanie algorytmu można w skrócie przedstawić graficznie z wyodrębnieniem roli oracle'a i dyfuzera. Oznaczając stan wyjściowy jako |s> możemy przedstawić go na płaszczyźnie jako superpozycję rozwiązań |+> i nie-rozwiązań |->. Rozpisując zatem |s> = a|-> + b|+> w pierwszym kroku nasz oracle odwracając fazę stanów będących rozwiązaniem zwróci a|-> -b|+> czyli efektywnie odbije wektor |s> względem osi |->. W drugim kroku działa dyfuzer który odbija nowo powstały wektor |s'> względem wektora |s>. Powtarzanie powyrzszych kroków pozwala na zbliżenie się wektora |s> do osi |+> zatem do rozwiązania zagadnienia."
   ]
  },
  {
   "cell_type": "markdown",
   "id": "3fc99d8c-f8ba-4c01-8bc2-b062e0a4c65c",
   "metadata": {},
   "source": [
    "![Grover](Grover.png)"
   ]
  },
  {
   "cell_type": "markdown",
   "id": "848def28-45cc-4e98-a928-ad1fbbd4ed98",
   "metadata": {},
   "source": [
    "# 3. Algorytm Deutsch-Jozsa"
   ]
  },
  {
   "cell_type": "markdown",
   "id": "faa81bc0-1724-4d16-8cb9-9e2adf3da8c6",
   "metadata": {},
   "source": [
    "Wprowadzenie: Mamy funkcje logiczną f która przyjmuje ciąg bitów i zwraca 0 albo 1. Jest ona albo stała albo \"zbalansowana\". Stała-zwraca zawsze 0 albo zawsze 1, zbalansowana - zwraca tyle samo 0 co 1. Zadaniem algorytmu jest znalezienie czy funckja jest stała czy zbalansowana. Przy użyciu algorytmu kwantowego możemy to stwierdzić po tylko jednym wywołaniu funkcji ze 100% pewnością. W naszym doświadczeniu stworzymy 2 oracle, jedno zbalansowane i jedno stałe. Obydwa dołączymy do takiego samego układu pomiarowego który zwraca prawdopodobieństwo tego że podłączony oracle jest stały (000) lub tego że jest zbalansowany (001)"
   ]
  },
  {
   "cell_type": "code",
   "execution_count": 10,
   "id": "4d9080b0-be0b-43b3-a6ff-76ec7663cc39",
   "metadata": {},
   "outputs": [
    {
     "data": {
      "text/plain": [
       "<qiskit.circuit.instructionset.InstructionSet at 0x2162058ba40>"
      ]
     },
     "execution_count": 10,
     "metadata": {},
     "output_type": "execute_result"
    }
   ],
   "source": [
    "# funkcje f implementujemy jako oracle\n",
    "oracle_const = QuantumCircuit(4)\n",
    "oracle_const.x(3) #f stała zawsze zwróci 1\n",
    "\n",
    "oracle_balanced = QuantumCircuit(4) #f zbalansowana stworzona przy pomocy 3 CNOT gatów\n",
    "oracle_balanced.cx(0,3)\n",
    "oracle_balanced.cx(0,2)\n",
    "oracle_balanced.cx(0,1)"
   ]
  },
  {
   "cell_type": "code",
   "execution_count": 11,
   "id": "bb889edf-b40c-493d-927d-1db5267833fd",
   "metadata": {},
   "outputs": [
    {
     "data": {
      "text/html": [
       "<pre style=\"word-wrap: normal;white-space: pre;background: #fff0;line-height: 1.1;font-family: &quot;Courier New&quot;,Courier,monospace\">     ┌───┐     \n",
       "q_0: ┤ H ├─────\n",
       "     ├───┤     \n",
       "q_1: ┤ H ├─────\n",
       "     ├───┤     \n",
       "q_2: ┤ H ├─────\n",
       "     ├───┤┌───┐\n",
       "q_3: ┤ X ├┤ H ├\n",
       "     └───┘└───┘\n",
       "c: 3/══════════\n",
       "               </pre>"
      ],
      "text/plain": [
       "     ┌───┐     \n",
       "q_0: ┤ H ├─────\n",
       "     ├───┤     \n",
       "q_1: ┤ H ├─────\n",
       "     ├───┤     \n",
       "q_2: ┤ H ├─────\n",
       "     ├───┤┌───┐\n",
       "q_3: ┤ X ├┤ H ├\n",
       "     └───┘└───┘\n",
       "c: 3/══════════\n",
       "               "
      ]
     },
     "execution_count": 11,
     "metadata": {},
     "output_type": "execute_result"
    }
   ],
   "source": [
    "circuit_const = QuantumCircuit(4,3)\n",
    "for qubit in range(3):   #ustawienie stanu początkowego\n",
    "    circuit_const.h(qubit)\n",
    "circuit_const.x(3)\n",
    "circuit_const.h(3)\n",
    "circuit_const.draw()"
   ]
  },
  {
   "cell_type": "code",
   "execution_count": 12,
   "id": "44628d4a-d64a-4c6a-86e6-3c7de409ee52",
   "metadata": {},
   "outputs": [
    {
     "data": {
      "text/html": [
       "<pre style=\"word-wrap: normal;white-space: pre;background: #fff0;line-height: 1.1;font-family: &quot;Courier New&quot;,Courier,monospace\">     ┌───┐          \n",
       "q_0: ┤ H ├──────────\n",
       "     ├───┤          \n",
       "q_1: ┤ H ├──────────\n",
       "     ├───┤          \n",
       "q_2: ┤ H ├──────────\n",
       "     ├───┤┌───┐┌───┐\n",
       "q_3: ┤ X ├┤ H ├┤ X ├\n",
       "     └───┘└───┘└───┘\n",
       "c: 3/═══════════════\n",
       "                    </pre>"
      ],
      "text/plain": [
       "     ┌───┐          \n",
       "q_0: ┤ H ├──────────\n",
       "     ├───┤          \n",
       "q_1: ┤ H ├──────────\n",
       "     ├───┤          \n",
       "q_2: ┤ H ├──────────\n",
       "     ├───┤┌───┐┌───┐\n",
       "q_3: ┤ X ├┤ H ├┤ X ├\n",
       "     └───┘└───┘└───┘\n",
       "c: 3/═══════════════\n",
       "                    "
      ]
     },
     "execution_count": 12,
     "metadata": {},
     "output_type": "execute_result"
    }
   ],
   "source": [
    "#dodajemy oracle\n",
    "circuit_const = circuit_const.compose(oracle_const)\n",
    "circuit_const.draw()"
   ]
  },
  {
   "cell_type": "code",
   "execution_count": 13,
   "id": "1839f3af-443a-4ebe-968b-468669ad80f1",
   "metadata": {},
   "outputs": [
    {
     "data": {
      "text/html": [
       "<pre style=\"word-wrap: normal;white-space: pre;background: #fff0;line-height: 1.1;font-family: &quot;Courier New&quot;,Courier,monospace\">     ┌───┐┌───┐      ░ ┌─┐      \n",
       "q_0: ┤ H ├┤ H ├──────░─┤M├──────\n",
       "     ├───┤├───┤      ░ └╥┘┌─┐   \n",
       "q_1: ┤ H ├┤ H ├──────░──╫─┤M├───\n",
       "     ├───┤├───┤      ░  ║ └╥┘┌─┐\n",
       "q_2: ┤ H ├┤ H ├──────░──╫──╫─┤M├\n",
       "     ├───┤├───┤┌───┐ ░  ║  ║ └╥┘\n",
       "q_3: ┤ X ├┤ H ├┤ X ├─░──╫──╫──╫─\n",
       "     └───┘└───┘└───┘ ░  ║  ║  ║ \n",
       "c: 3/═══════════════════╩══╩══╩═\n",
       "                        0  1  2 </pre>"
      ],
      "text/plain": [
       "     ┌───┐┌───┐      ░ ┌─┐      \n",
       "q_0: ┤ H ├┤ H ├──────░─┤M├──────\n",
       "     ├───┤├───┤      ░ └╥┘┌─┐   \n",
       "q_1: ┤ H ├┤ H ├──────░──╫─┤M├───\n",
       "     ├───┤├───┤      ░  ║ └╥┘┌─┐\n",
       "q_2: ┤ H ├┤ H ├──────░──╫──╫─┤M├\n",
       "     ├───┤├───┤┌───┐ ░  ║  ║ └╥┘\n",
       "q_3: ┤ X ├┤ H ├┤ X ├─░──╫──╫──╫─\n",
       "     └───┘└───┘└───┘ ░  ║  ║  ║ \n",
       "c: 3/═══════════════════╩══╩══╩═\n",
       "                        0  1  2 "
      ]
     },
     "execution_count": 13,
     "metadata": {},
     "output_type": "execute_result"
    }
   ],
   "source": [
    "# powtarzamy H-gates\n",
    "for qubit in range(3):\n",
    "    circuit_const.h(qubit)\n",
    "circuit_const.barrier()\n",
    "# wykonujemy pomiar\n",
    "for i in range(3):\n",
    "    circuit_const.measure(i, i)\n",
    "    \n",
    "# wyświetlamy układ\n",
    "circuit_const.draw()"
   ]
  },
  {
   "cell_type": "code",
   "execution_count": 14,
   "id": "e4abf658-b2f9-4147-a263-2a6d11f09642",
   "metadata": {},
   "outputs": [
    {
     "data": {
      "image/png": "[encoded data removed]",
      "text/plain": [
       "<Figure size 504x360 with 1 Axes>"
      ]
     },
     "execution_count": 14,
     "metadata": {},
     "output_type": "execute_result"
    }
   ],
   "source": [
    "aer_sim = Aer.get_backend('aer_simulator')\n",
    "results3 = aer_sim.run(circuit_const).result()\n",
    "answer3 = results3.get_counts()\n",
    "\n",
    "plot_histogram(answer3)"
   ]
  },
  {
   "cell_type": "code",
   "execution_count": 15,
   "id": "494c7b23-158c-4aa6-9a41-0cf110ed5d43",
   "metadata": {},
   "outputs": [
    {
     "data": {
      "text/html": [
       "<pre style=\"word-wrap: normal;white-space: pre;background: #fff0;line-height: 1.1;font-family: &quot;Courier New&quot;,Courier,monospace\">     ┌───┐     \n",
       "q_0: ┤ H ├─────\n",
       "     ├───┤     \n",
       "q_1: ┤ H ├─────\n",
       "     ├───┤     \n",
       "q_2: ┤ H ├─────\n",
       "     ├───┤┌───┐\n",
       "q_3: ┤ X ├┤ H ├\n",
       "     └───┘└───┘\n",
       "c: 3/══════════\n",
       "               </pre>"
      ],
      "text/plain": [
       "     ┌───┐     \n",
       "q_0: ┤ H ├─────\n",
       "     ├───┤     \n",
       "q_1: ┤ H ├─────\n",
       "     ├───┤     \n",
       "q_2: ┤ H ├─────\n",
       "     ├───┤┌───┐\n",
       "q_3: ┤ X ├┤ H ├\n",
       "     └───┘└───┘\n",
       "c: 3/══════════\n",
       "               "
      ]
     },
     "execution_count": 15,
     "metadata": {},
     "output_type": "execute_result"
    }
   ],
   "source": [
    "circuit_balanced = QuantumCircuit(4,3)\n",
    "for qubit in range(3):   #ustawienie stanu początkowego\n",
    "    circuit_balanced.h(qubit)\n",
    "circuit_balanced.x(3)\n",
    "circuit_balanced.h(3)\n",
    "circuit_balanced.draw()"
   ]
  },
  {
   "cell_type": "code",
   "execution_count": 16,
   "id": "8c896320-8fdd-46af-8bba-d3ef3d010491",
   "metadata": {},
   "outputs": [
    {
     "data": {
      "text/html": [
       "<pre style=\"word-wrap: normal;white-space: pre;background: #fff0;line-height: 1.1;font-family: &quot;Courier New&quot;,Courier,monospace\">     ┌───┐                    \n",
       "q_0: ┤ H ├───────■────■────■──\n",
       "     ├───┤       │    │  ┌─┴─┐\n",
       "q_1: ┤ H ├───────┼────┼──┤ X ├\n",
       "     ├───┤       │  ┌─┴─┐└───┘\n",
       "q_2: ┤ H ├───────┼──┤ X ├─────\n",
       "     ├───┤┌───┐┌─┴─┐└───┘     \n",
       "q_3: ┤ X ├┤ H ├┤ X ├──────────\n",
       "     └───┘└───┘└───┘          \n",
       "c: 3/═════════════════════════\n",
       "                              </pre>"
      ],
      "text/plain": [
       "     ┌───┐                    \n",
       "q_0: ┤ H ├───────■────■────■──\n",
       "     ├───┤       │    │  ┌─┴─┐\n",
       "q_1: ┤ H ├───────┼────┼──┤ X ├\n",
       "     ├───┤       │  ┌─┴─┐└───┘\n",
       "q_2: ┤ H ├───────┼──┤ X ├─────\n",
       "     ├───┤┌───┐┌─┴─┐└───┘     \n",
       "q_3: ┤ X ├┤ H ├┤ X ├──────────\n",
       "     └───┘└───┘└───┘          \n",
       "c: 3/═════════════════════════\n",
       "                              "
      ]
     },
     "execution_count": 16,
     "metadata": {},
     "output_type": "execute_result"
    }
   ],
   "source": [
    "#dodajemy oracle\n",
    "circuit_balanced = circuit_balanced.compose(oracle_balanced)\n",
    "circuit_balanced.draw()"
   ]
  },
  {
   "cell_type": "code",
   "execution_count": 17,
   "id": "ad58ce3f-2f64-4682-8cb7-1b4b680fb5b9",
   "metadata": {},
   "outputs": [
    {
     "data": {
      "text/html": [
       "<pre style=\"word-wrap: normal;white-space: pre;background: #fff0;line-height: 1.1;font-family: &quot;Courier New&quot;,Courier,monospace\">     ┌───┐                    ┌───┐ ░ ┌─┐      \n",
       "q_0: ┤ H ├───────■────■────■──┤ H ├─░─┤M├──────\n",
       "     ├───┤       │    │  ┌─┴─┐├───┤ ░ └╥┘┌─┐   \n",
       "q_1: ┤ H ├───────┼────┼──┤ X ├┤ H ├─░──╫─┤M├───\n",
       "     ├───┤       │  ┌─┴─┐├───┤└───┘ ░  ║ └╥┘┌─┐\n",
       "q_2: ┤ H ├───────┼──┤ X ├┤ H ├──────░──╫──╫─┤M├\n",
       "     ├───┤┌───┐┌─┴─┐└───┘└───┘      ░  ║  ║ └╥┘\n",
       "q_3: ┤ X ├┤ H ├┤ X ├────────────────░──╫──╫──╫─\n",
       "     └───┘└───┘└───┘                ░  ║  ║  ║ \n",
       "c: 3/══════════════════════════════════╩══╩══╩═\n",
       "                                       0  1  2 </pre>"
      ],
      "text/plain": [
       "     ┌───┐                    ┌───┐ ░ ┌─┐      \n",
       "q_0: ┤ H ├───────■────■────■──┤ H ├─░─┤M├──────\n",
       "     ├───┤       │    │  ┌─┴─┐├───┤ ░ └╥┘┌─┐   \n",
       "q_1: ┤ H ├───────┼────┼──┤ X ├┤ H ├─░──╫─┤M├───\n",
       "     ├───┤       │  ┌─┴─┐├───┤└───┘ ░  ║ └╥┘┌─┐\n",
       "q_2: ┤ H ├───────┼──┤ X ├┤ H ├──────░──╫──╫─┤M├\n",
       "     ├───┤┌───┐┌─┴─┐└───┘└───┘      ░  ║  ║ └╥┘\n",
       "q_3: ┤ X ├┤ H ├┤ X ├────────────────░──╫──╫──╫─\n",
       "     └───┘└───┘└───┘                ░  ║  ║  ║ \n",
       "c: 3/══════════════════════════════════╩══╩══╩═\n",
       "                                       0  1  2 "
      ]
     },
     "execution_count": 17,
     "metadata": {},
     "output_type": "execute_result"
    }
   ],
   "source": [
    "# powtarzamy H-gates\n",
    "for qubit in range(3):\n",
    "    circuit_balanced.h(qubit)\n",
    "circuit_balanced.barrier()\n",
    "# wykonujemy pomiar\n",
    "for i in range(3):\n",
    "    circuit_balanced.measure(i, i)\n",
    "    \n",
    "# wyświetlamy układ\n",
    "circuit_balanced.draw()"
   ]
  },
  {
   "cell_type": "code",
   "execution_count": 18,
   "id": "7d1a4ff1-b358-4ec2-8e04-c96d21ef7a00",
   "metadata": {},
   "outputs": [
    {
     "data": {
      "image/png": "[encoded data removed]",
      "text/plain": [
       "<Figure size 504x360 with 1 Axes>"
      ]
     },
     "execution_count": 18,
     "metadata": {},
     "output_type": "execute_result"
    }
   ],
   "source": [
    "aer_sim = Aer.get_backend('aer_simulator')\n",
    "results4 = aer_sim.run(circuit_balanced).result()\n",
    "answer4 = results4.get_counts()\n",
    "\n",
    "plot_histogram(answer4)"
   ]
  },
  {
   "cell_type": "markdown",
   "id": "fc066d83-0370-4969-8b21-589e60c78b9d",
   "metadata": {},
   "source": [
    "Algorytm poprawnie wykrył który oracle jest funckją stałą a który funkcją zbalansowaną po jednej iteracji. Działa on na zasadzie H-gatów. W przypadku stałego oracla nie ma on efektywnie efektu na stan inputowych qubitów które zostają takie same przed i po przejściu przez oracle. Ponieważ H-gate jest swoją własną operacją odwrotną przepuszczając qubity przez 2 H-gaty otrzymujemy  stan |00...0>.\\\n",
    "W przypadku oracla zbalansowanego po przepuszczeniu przez pierwsze H-gaty nasz input jest następnie przesunięty w fazie w dokładnie połowach dostępnych stanów. Po przejściu przez oracle \"sygnał\" jest ortogonalny do stanu przed przejściem przez oracla. Z tego powodu po przejściu przez drugie H-gaty nasz stan wyjściowy będzie ortogonalny do |00...0> więc nigdy nie otrzymamy tego stanu."
   ]
  },
  {
   "cell_type": "markdown",
   "id": "99dd0351-a5e6-45e0-8c50-c2002e07febf",
   "metadata": {},
   "source": [
    "# 4. Algorytm zdalnie kontrolujący losowanie\n"
   ]
  },
  {
   "cell_type": "markdown",
   "id": "eb390790-2437-4388-8f46-fa53cf3472e7",
   "metadata": {},
   "source": [
    "Wprowadznie: Algorytm zmienia prawdopodobieństwo zarejestrowania 0 lub 1 w registerze na podstawie stanu qubitu kontrolującego q0. Podzieliliśmy układ na 3 przypadki w którym stan qubitu kontolującego ma stan domyślny |0>, stan |1> oraz w którym został on w stanie |0> przepuszczony przez H-gate co efektywnie daje równą superpozycję stanów |0> i |1> co daje nam równe prawdopodobieństwo odczytania 0 i 1."
   ]
  },
  {
   "cell_type": "code",
   "execution_count": 19,
   "id": "c90d5e73-316d-4d90-a4c2-99b55da54b53",
   "metadata": {},
   "outputs": [
    {
     "data": {
      "text/html": [
       "<pre style=\"word-wrap: normal;white-space: pre;background: #fff0;line-height: 1.1;font-family: &quot;Courier New&quot;,Courier,monospace\">                            \n",
       "q_0: ─────────────────■─────\n",
       "     ┌───┐┌───┐┌───┐┌─┴─┐┌─┐\n",
       "q_1: ┤ H ├┤ T ├┤ H ├┤ X ├┤M├\n",
       "     └───┘└───┘└───┘└───┘└╥┘\n",
       "c: 1/═════════════════════╩═\n",
       "                          0 </pre>"
      ],
      "text/plain": [
       "                            \n",
       "q_0: ─────────────────■─────\n",
       "     ┌───┐┌───┐┌───┐┌─┴─┐┌─┐\n",
       "q_1: ┤ H ├┤ T ├┤ H ├┤ X ├┤M├\n",
       "     └───┘└───┘└───┘└───┘└╥┘\n",
       "c: 1/═════════════════════╩═\n",
       "                          0 "
      ]
     },
     "execution_count": 19,
     "metadata": {},
     "output_type": "execute_result"
    }
   ],
   "source": [
    "#przypadek 1 - qubit kontrolujący q0 w stanie |0>\n",
    "circuit_random = QuantumCircuit(2,1)\n",
    "\n",
    "circuit_random.h(1)\n",
    "circuit_random.t(1)\n",
    "circuit_random.h(1)\n",
    "circuit_random.cx(0,1)\n",
    "circuit_random.measure(1,0)\n",
    "circuit_random.draw()"
   ]
  },
  {
   "cell_type": "code",
   "execution_count": 20,
   "id": "301a5bb5-6166-4882-ae2b-e40e058442a5",
   "metadata": {},
   "outputs": [
    {
     "data": {
      "image/png": "[encoded data removed]",
      "text/plain": [
       "<Figure size 504x360 with 1 Axes>"
      ]
     },
     "execution_count": 20,
     "metadata": {},
     "output_type": "execute_result"
    }
   ],
   "source": [
    "#Rozkład prawdopodobieństwa odczytu w registerze w 1 przypadku \n",
    "aer_sim = Aer.get_backend('aer_simulator')\n",
    "results5 = aer_sim.run(circuit_random).result()\n",
    "answer5 = results5.get_counts()\n",
    "\n",
    "plot_histogram(answer5)"
   ]
  },
  {
   "cell_type": "code",
   "execution_count": 21,
   "id": "2bf89a53-cf36-4503-989b-85080fc63c9b",
   "metadata": {},
   "outputs": [
    {
     "data": {
      "text/html": [
       "<pre style=\"word-wrap: normal;white-space: pre;background: #fff0;line-height: 1.1;font-family: &quot;Courier New&quot;,Courier,monospace\">     ┌───┐                  \n",
       "q_0: ┤ X ├────────────■─────\n",
       "     ├───┤┌───┐┌───┐┌─┴─┐┌─┐\n",
       "q_1: ┤ H ├┤ T ├┤ H ├┤ X ├┤M├\n",
       "     └───┘└───┘└───┘└───┘└╥┘\n",
       "c: 1/═════════════════════╩═\n",
       "                          0 </pre>"
      ],
      "text/plain": [
       "     ┌───┐                  \n",
       "q_0: ┤ X ├────────────■─────\n",
       "     ├───┤┌───┐┌───┐┌─┴─┐┌─┐\n",
       "q_1: ┤ H ├┤ T ├┤ H ├┤ X ├┤M├\n",
       "     └───┘└───┘└───┘└───┘└╥┘\n",
       "c: 1/═════════════════════╩═\n",
       "                          0 "
      ]
     },
     "execution_count": 21,
     "metadata": {},
     "output_type": "execute_result"
    }
   ],
   "source": [
    "#przypadek 2 - qubit kontrolujący q0 w stanie |1>\n",
    "circuit_random2 = QuantumCircuit(2,1)\n",
    "circuit_random2.x(0)\n",
    "circuit_random2.h(1)\n",
    "circuit_random2.t(1)\n",
    "circuit_random2.h(1)\n",
    "circuit_random2.cx(0,1)\n",
    "circuit_random2.measure(1,0)\n",
    "circuit_random2.draw()"
   ]
  },
  {
   "cell_type": "code",
   "execution_count": 22,
   "id": "54339b5d-a668-413d-b2d7-c1bc77928419",
   "metadata": {},
   "outputs": [
    {
     "data": {
      "image/png": "[encoded data removed]",
      "text/plain": [
       "<Figure size 504x360 with 1 Axes>"
      ]
     },
     "execution_count": 22,
     "metadata": {},
     "output_type": "execute_result"
    }
   ],
   "source": [
    "#Rozkład prawdopodobieństwa odczytu w registerze w 2 przypadku \n",
    "aer_sim = Aer.get_backend('aer_simulator')\n",
    "results6 = aer_sim.run(circuit_random2).result()\n",
    "answer6 = results6.get_counts()\n",
    "\n",
    "plot_histogram(answer6)"
   ]
  },
  {
   "cell_type": "code",
   "execution_count": 23,
   "id": "d6c9778c-8374-49c0-b3e8-746d7edef833",
   "metadata": {},
   "outputs": [
    {
     "data": {
      "text/html": [
       "<pre style=\"word-wrap: normal;white-space: pre;background: #fff0;line-height: 1.1;font-family: &quot;Courier New&quot;,Courier,monospace\">     ┌───┐               ┌─┐   \n",
       "q_0: ┤ H ├────────────■──┤M├───\n",
       "     ├───┤┌───┐┌───┐┌─┴─┐└╥┘┌─┐\n",
       "q_1: ┤ H ├┤ T ├┤ H ├┤ X ├─╫─┤M├\n",
       "     └───┘└───┘└───┘└───┘ ║ └╥┘\n",
       "c: 2/═════════════════════╩══╩═\n",
       "                          0  1 </pre>"
      ],
      "text/plain": [
       "     ┌───┐               ┌─┐   \n",
       "q_0: ┤ H ├────────────■──┤M├───\n",
       "     ├───┤┌───┐┌───┐┌─┴─┐└╥┘┌─┐\n",
       "q_1: ┤ H ├┤ T ├┤ H ├┤ X ├─╫─┤M├\n",
       "     └───┘└───┘└───┘└───┘ ║ └╥┘\n",
       "c: 2/═════════════════════╩══╩═\n",
       "                          0  1 "
      ]
     },
     "execution_count": 23,
     "metadata": {},
     "output_type": "execute_result"
    }
   ],
   "source": [
    "#przypadek 3 - qubit kontrolujący q0 w stanie równej superpozycji |0> i |1>\n",
    "circuit_random3 = QuantumCircuit(2,2)\n",
    "circuit_random3.h(0)\n",
    "circuit_random3.h(1)\n",
    "circuit_random3.t(1)\n",
    "circuit_random3.h(1)\n",
    "circuit_random3.cx(0,1)\n",
    "circuit_random3.measure(0,0)\n",
    "circuit_random3.measure(1,1)\n",
    "circuit_random3.draw()"
   ]
  },
  {
   "cell_type": "code",
   "execution_count": 24,
   "id": "31ae49b4-a6ed-49ff-9d8e-db073dfdf34b",
   "metadata": {},
   "outputs": [
    {
     "data": {
      "image/png": "[encoded data removed]",
      "text/plain": [
       "<Figure size 504x360 with 1 Axes>"
      ]
     },
     "execution_count": 24,
     "metadata": {},
     "output_type": "execute_result"
    }
   ],
   "source": [
    "#Rozkład prawdopodobieństwa odczytu w 3 przypadku. Można zauważyć że prawdopodobieństwa warunkowe odczytu bitu drugiego pod warunkiem ustalonego bitu pierwszego pokrywają się z\n",
    "#przypadkami 1) i 2)\n",
    "aer_sim = Aer.get_backend('aer_simulator')\n",
    "results7 = aer_sim.run(circuit_random3).result()\n",
    "answer7 = results7.get_counts()\n",
    "\n",
    "plot_histogram(answer7)"
   ]
  },
  {
   "cell_type": "markdown",
   "id": "9db6912e-6fea-4c9e-a858-ec709a812468",
   "metadata": {},
   "source": [
    "Zasada działania: qubit 2 będąc domyślnie ustawionym w stanie |0> przechodzi przez serię bramke H-T-H, (gdzie T-gatę-przesuwa fazę względną o 45 stopni), co zostawia qubit w stanie w którym przy pomiarze prawdopodobieńśtwo uzyskania 0 wynosi ok 0,85, a 1 ok 0,15. Qubit q0 kontrolujący bramkę X na końcu pozwala w zależności od jego stanu zamienić prawdopodobieństwa pomiaru 0 i 1. "
   ]
  }
 ],
 "metadata": {
  "kernelspec": {
   "display_name": "Python 3 (ipykernel)",
   "language": "python",
   "name": "python3"
  },
  "language_info": {
   "codemirror_mode": {
    "name": "ipython",
    "version": 3
   },
   "file_extension": ".py",
   "mimetype": "text/x-python",
   "name": "python",
   "nbconvert_exporter": "python",
   "pygments_lexer": "ipython3",
   "version": "3.9.7"
  }
 },
 "nbformat": 4,
 "nbformat_minor": 5
}
